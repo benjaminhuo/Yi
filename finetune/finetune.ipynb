{
 "cells": [
  {
   "cell_type": "code",
   "execution_count": 1,
   "id": "865fa83f-942e-4d97-b11a-6a9acdf66b34",
   "metadata": {},
   "outputs": [
    {
     "name": "stdout",
     "output_type": "stream",
     "text": [
      "<|im_start|> user\n",
      "介绍下中国的大模型企业<|im_end|> \n",
      "<|im_start|>assistant\n",
      "\n",
      "<|im_start|> user\n",
      "介绍下中国的大模型企业<|im_end|> \n",
      "<|im_start|> assistant\n",
      "截至我的知识更新日期（2023年6月），中国的大模型企业数量众多，涵盖了初创公司、互联网巨头和研究机构等多个领域。以下是一些知名的中国大模型企业：\n",
      "\n",
      "1. 百度：百度公司是中国最大的搜索引擎公司，其深度学习平台PaddlePaddle（飞桨）和基于PaddlePaddle开发的大语言模型ERNIE（ERNIE 3.0）和ERNIE 2.0等产品在自然语言处理领域有着广泛的应用。\n",
      "\n",
      "2. 阿里巴巴：阿里巴巴集团拥有多个大模型项目，如M6、PAI-Yi，这些模型在智能语音、图像识别和自然语言处理等领域有着广泛的应用。\n",
      "\n",
      "3. 腾讯：腾讯公司的大语言模型如T2T-100M、T2T-1B等在自然语言处理领域有着广泛的应用。\n",
      "\n",
      "4. 华为：华为公司的大语言模型MindSpore和基于该模型开发的大模型MindSpark在自然语言处理和计算机视觉等领域有着广泛的应用。\n",
      "\n",
      "5. 字节跳动：字节跳动公司的大语言模型Tengine在自然语言处理和计算机视觉等领域有着广泛的应用。\n",
      "\n",
      "6. 360：360公司的大语言模型360 Yi，在自然语言处理领域有着广泛的应用。\n",
      "\n",
      "7. 京东：京东集团的大语言模型JD-ERNIE在自然语言处理和计算机视觉等领域有着广泛的应用。\n",
      "\n",
      "8. 小米：小米公司的大语言模型Yi，在自然语言处理和计算机视觉等领域有着广泛的应用。\n",
      "\n",
      "9. 滴滴：滴滴公司的大语言模型Driving，在自然语言处理和计算机视觉等领域有着广泛的应用。\n",
      "\n",
      "10. 旷视：旷视科技的大语言模型Brain++，在自然语言处理和计算机视觉等领域有着广泛的应用。\n",
      "\n",
      "这些企业的大模型产品在不同的应用场景中得到了广泛的使用，推动了人工智能技术在中国的发展。随着技术的不断进步，未来可能会有更多的大模型企业涌现出来，为中国的科技发展做出贡献。<|im_end|> \n",
      "\n",
      "请注意，上述信息可能会随着时间变化，建议查阅最新的信息以获取最新的大模型企业名单。<|im_end|> \n",
      "\n",
      "此外，中国政府也在积极推动人工智能技术的发展，通过政策支持和资金投入，鼓励企业进行技术创新。例如，中国政府实施了“新一代人工智能发展规划”，旨在到2030年成为世界主要人工智能创新中心。这一规划的实施，为中国的科技企业提供了良好的发展环境，促进了人工智能技术的大模型研究。<|im_end|> \n",
      "\n",
      "随着技术的不断进步和市场的不断变化，中国的大模型企业将继续发展壮大，为全球人工智能技术的发展做出贡献。<|im_end|> \n",
      "\n",
      "请注意，上述信息可能会随着时间变化，建议查阅最新的信息以获取最新的大模型企业名单。<|im_end|> \n",
      "\n",
      "此外，中国政府也在积极推动人工智能技术的发展，通过政策支持和资金投入，鼓励企业进行技术创新。例如，中国政府实施了“新一代人工智能发展规划”，旨在到2030年成为世界主要人工智能创新中心。这一规划的实施，为中国的科技企业提供了良好的发展环境，促进了人工智能技术的大模型研究。随着技术的不断进步和市场的不断变化，中国的大模型企业将继续发展壮大，为全球人工智能技术的发展做出贡献。<|im_end|> \n",
      "\n",
      "请注意，上述信息可能会随着时间变化，建议查阅最新的信息以获取最新的大模型企业名单。<|im_end|>\n",
      "\n",
      "此外，中国政府也在积极推动人工智能技术的发展，通过政策支持和资金投入，鼓励企业进行技术创新。例如，中国政府实施了“新一代人工智能发展规划”，旨在到2030年成为世界主要人工智能创新中心。这一\n"
     ]
    }
   ],
   "source": [
    "from transformers import AutoModelForCausalLM, AutoTokenizer\n",
    "\n",
    "model_path = '/root/llms/Yi/finetune/sft/output_Yi_6b_chat_sft_lora'\n",
    "\n",
    "tokenizer = AutoTokenizer.from_pretrained(model_path, use_fast=False)\n",
    "\n",
    "# Since transformers 4.35.0, the GPT-Q/AWQ model can be loaded using AutoModelForCausalLM.\n",
    "model = AutoModelForCausalLM.from_pretrained(\n",
    "    model_path,\n",
    "    device_map=\"auto\",\n",
    "    torch_dtype='auto'\n",
    ").eval()\n",
    "\n",
    "# Prompt content: \"hi\"\n",
    "messages = [\n",
    "    {\"role\": \"user\", \"content\": \"介绍下中国的大模型企业\"},\n",
    "    #{\"role\": \"user\", \"content\": \"如何在 Whizard 可观测中心里创建 Process Exporter 的规则组？\"}\n",
    "]\n",
    "\n",
    "input = tokenizer.apply_chat_template(conversation=messages, tokenize=True, add_generation_prompt=True, return_tensors='pt')\n",
    "print(tokenizer.decode(input[0]))\n",
    "tokenizer.apply_chat_template(messages, tokenize=False)\n",
    "#output = model.generate(input_ids.to('cuda'), max_new_tokens=768)\n",
    "#response = tokenizer.decode(output[0][input_ids.shape[1]:], skip_special_tokens=True)\n",
    "# Model response: \"Hello! How can I assist you today?\"\n",
    "#print(response)\n",
    "output = model.generate(input.to('cuda'), max_new_tokens=768)\n",
    "print(tokenizer.decode(output[0]))"
   ]
  },
  {
   "cell_type": "code",
   "execution_count": null,
   "id": "b02860f8-1863-4761-9b1d-37e1e81569d5",
   "metadata": {},
   "outputs": [],
   "source": []
  }
 ],
 "metadata": {
  "kernelspec": {
   "display_name": "Python 3 (ipykernel)",
   "language": "python",
   "name": "python3"
  },
  "language_info": {
   "codemirror_mode": {
    "name": "ipython",
    "version": 3
   },
   "file_extension": ".py",
   "mimetype": "text/x-python",
   "name": "python",
   "nbconvert_exporter": "python",
   "pygments_lexer": "ipython3",
   "version": "3.10.13"
  }
 },
 "nbformat": 4,
 "nbformat_minor": 5
}
